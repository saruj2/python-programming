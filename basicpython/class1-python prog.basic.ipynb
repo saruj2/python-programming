{
 "cells": [
  {
   "cell_type": "code",
   "execution_count": null,
   "id": "9ff55ad7",
   "metadata": {},
   "outputs": [],
   "source": [
    "#diffent types of data types\n",
    "#int,str,bool,floot"
   ]
  },
  {
   "cell_type": "code",
   "execution_count": 3,
   "id": "ba433531",
   "metadata": {},
   "outputs": [],
   "source": [
    "name='saruj'"
   ]
  },
  {
   "cell_type": "code",
   "execution_count": 4,
   "id": "1153445e",
   "metadata": {},
   "outputs": [
    {
     "data": {
      "text/plain": [
       "'saruj'"
      ]
     },
     "execution_count": 4,
     "metadata": {},
     "output_type": "execute_result"
    }
   ],
   "source": [
    "name"
   ]
  },
  {
   "cell_type": "code",
   "execution_count": 5,
   "id": "473a9b70",
   "metadata": {},
   "outputs": [
    {
     "data": {
      "text/plain": [
       "str"
      ]
     },
     "execution_count": 5,
     "metadata": {},
     "output_type": "execute_result"
    }
   ],
   "source": [
    "type(name)"
   ]
  },
  {
   "cell_type": "code",
   "execution_count": 7,
   "id": "5e416a6a",
   "metadata": {},
   "outputs": [],
   "source": [
    "sales=150.30"
   ]
  },
  {
   "cell_type": "code",
   "execution_count": 8,
   "id": "357fc1ce",
   "metadata": {},
   "outputs": [
    {
     "data": {
      "text/plain": [
       "float"
      ]
     },
     "execution_count": 8,
     "metadata": {},
     "output_type": "execute_result"
    }
   ],
   "source": [
    "type(sales)"
   ]
  },
  {
   "cell_type": "code",
   "execution_count": 11,
   "id": "15ee7ba3",
   "metadata": {},
   "outputs": [],
   "source": [
    "quantity= 10"
   ]
  },
  {
   "cell_type": "code",
   "execution_count": 12,
   "id": "86bbe7e9",
   "metadata": {},
   "outputs": [
    {
     "data": {
      "text/plain": [
       "int"
      ]
     },
     "execution_count": 12,
     "metadata": {},
     "output_type": "execute_result"
    }
   ],
   "source": [
    "type(quantity)"
   ]
  },
  {
   "cell_type": "code",
   "execution_count": 18,
   "id": "270638fc",
   "metadata": {},
   "outputs": [],
   "source": [
    "output=sales>100"
   ]
  },
  {
   "cell_type": "code",
   "execution_count": 19,
   "id": "5a3657a6",
   "metadata": {},
   "outputs": [
    {
     "data": {
      "text/plain": [
       "bool"
      ]
     },
     "execution_count": 19,
     "metadata": {},
     "output_type": "execute_result"
    }
   ],
   "source": [
    "type(output)"
   ]
  },
  {
   "cell_type": "code",
   "execution_count": 199,
   "id": "238e2e18",
   "metadata": {},
   "outputs": [],
   "source": [
    "#identifier\n",
    "#alphabet\n",
    "#number\n",
    "#uderscore\n",
    "name123_='saruj'"
   ]
  },
  {
   "cell_type": "code",
   "execution_count": 21,
   "id": "1600ac60",
   "metadata": {},
   "outputs": [
    {
     "data": {
      "text/plain": [
       "['False',\n",
       " 'None',\n",
       " 'True',\n",
       " '__peg_parser__',\n",
       " 'and',\n",
       " 'as',\n",
       " 'assert',\n",
       " 'async',\n",
       " 'await',\n",
       " 'break',\n",
       " 'class',\n",
       " 'continue',\n",
       " 'def',\n",
       " 'del',\n",
       " 'elif',\n",
       " 'else',\n",
       " 'except',\n",
       " 'finally',\n",
       " 'for',\n",
       " 'from',\n",
       " 'global',\n",
       " 'if',\n",
       " 'import',\n",
       " 'in',\n",
       " 'is',\n",
       " 'lambda',\n",
       " 'nonlocal',\n",
       " 'not',\n",
       " 'or',\n",
       " 'pass',\n",
       " 'raise',\n",
       " 'return',\n",
       " 'try',\n",
       " 'while',\n",
       " 'with',\n",
       " 'yield']"
      ]
     },
     "execution_count": 21,
     "metadata": {},
     "output_type": "execute_result"
    }
   ],
   "source": [
    "import keyword\n",
    "keyword.kwlist"
   ]
  },
  {
   "cell_type": "code",
   "execution_count": 28,
   "id": "d5998a69",
   "metadata": {},
   "outputs": [],
   "source": [
    "name= 'saruj'"
   ]
  },
  {
   "cell_type": "code",
   "execution_count": 25,
   "id": "4ab80986",
   "metadata": {},
   "outputs": [
    {
     "data": {
      "text/plain": [
       "'saruj'"
      ]
     },
     "execution_count": 25,
     "metadata": {},
     "output_type": "execute_result"
    }
   ],
   "source": [
    "name"
   ]
  },
  {
   "cell_type": "code",
   "execution_count": 29,
   "id": "3652f296",
   "metadata": {},
   "outputs": [],
   "source": [
    "Name= 'saruj'"
   ]
  },
  {
   "cell_type": "code",
   "execution_count": 30,
   "id": "73d10a3d",
   "metadata": {},
   "outputs": [
    {
     "data": {
      "text/plain": [
       "'saruj'"
      ]
     },
     "execution_count": 30,
     "metadata": {},
     "output_type": "execute_result"
    }
   ],
   "source": [
    "Name"
   ]
  },
  {
   "cell_type": "code",
   "execution_count": null,
   "id": "8e53fe03",
   "metadata": {},
   "outputs": [],
   "source": [
    "#6 digit otp number 10 times"
   ]
  },
  {
   "cell_type": "code",
   "execution_count": 33,
   "id": "8cedecb7",
   "metadata": {},
   "outputs": [
    {
     "name": "stdout",
     "output_type": "stream",
     "text": [
      "6 7 6 2 3 6\n",
      "7 4 0 2 4 1\n",
      "4 6 8 8 8 6\n",
      "7 8 0 7 7 5\n",
      "6 3 0 0 7 5\n",
      "2 7 3 7 3 1\n",
      "4 2 0 2 5 6\n",
      "7 2 4 5 8 4\n",
      "1 2 4 6 6 8\n",
      "1 9 7 2 9 7\n"
     ]
    }
   ],
   "source": [
    "from random import*\n",
    "for i in range(0,10):\n",
    "    print(randint(0,9),randint(0,9),randint(0,9),randint(0,9),randint(0,9),randint(0,9) )"
   ]
  },
  {
   "cell_type": "code",
   "execution_count": null,
   "id": "700e4ea2",
   "metadata": {},
   "outputs": [],
   "source": [
    "#python collection datatypes , data structure\n",
    "#lists\n",
    "#dictionaries\n",
    "#sets\n",
    "   #frozensets"
   ]
  },
  {
   "cell_type": "code",
   "execution_count": null,
   "id": "859e87d9",
   "metadata": {},
   "outputs": [],
   "source": [
    "#1st data types--list\n",
    "#lists are mutable in nature\n",
    "#can store any kind of datatypes-- Heterogenious data\n",
    "#Duplicates are allowed\n",
    "#Enclosed in quare bracket list[]"
   ]
  },
  {
   "cell_type": "code",
   "execution_count": 34,
   "id": "abf4db3a",
   "metadata": {},
   "outputs": [],
   "source": [
    "ages= [21,23,24,25,26,23,12,11,12]"
   ]
  },
  {
   "cell_type": "code",
   "execution_count": 35,
   "id": "caa15bb6",
   "metadata": {},
   "outputs": [
    {
     "data": {
      "text/plain": [
       "[21, 23, 24, 25, 26, 23, 12, 11, 12]"
      ]
     },
     "execution_count": 35,
     "metadata": {},
     "output_type": "execute_result"
    }
   ],
   "source": [
    "ages "
   ]
  },
  {
   "cell_type": "code",
   "execution_count": 42,
   "id": "529cbe78",
   "metadata": {},
   "outputs": [
    {
     "data": {
      "text/plain": [
       "23"
      ]
     },
     "execution_count": 42,
     "metadata": {},
     "output_type": "execute_result"
    }
   ],
   "source": [
    "ages[5]"
   ]
  },
  {
   "cell_type": "code",
   "execution_count": 43,
   "id": "0d74d1ff",
   "metadata": {},
   "outputs": [
    {
     "data": {
      "text/plain": [
       "[24, 25, 26, 23, 12]"
      ]
     },
     "execution_count": 43,
     "metadata": {},
     "output_type": "execute_result"
    }
   ],
   "source": [
    "ages[2:7]"
   ]
  },
  {
   "cell_type": "code",
   "execution_count": 38,
   "id": "499dcd00",
   "metadata": {},
   "outputs": [],
   "source": [
    "list1= ['A',10,10.5,True]"
   ]
  },
  {
   "cell_type": "code",
   "execution_count": 50,
   "id": "76c6bb52",
   "metadata": {},
   "outputs": [
    {
     "data": {
      "text/plain": [
       "[11, 12, 23, 26, 25]"
      ]
     },
     "execution_count": 50,
     "metadata": {},
     "output_type": "execute_result"
    }
   ],
   "source": [
    "ages[-2:-7:-1]"
   ]
  },
  {
   "cell_type": "code",
   "execution_count": 52,
   "id": "8e7f20c7",
   "metadata": {},
   "outputs": [
    {
     "data": {
      "text/plain": [
       "[11, 23, 25]"
      ]
     },
     "execution_count": 52,
     "metadata": {},
     "output_type": "execute_result"
    }
   ],
   "source": [
    "ages[-2:-7:-2]"
   ]
  },
  {
   "cell_type": "code",
   "execution_count": 51,
   "id": "5657f236",
   "metadata": {},
   "outputs": [
    {
     "data": {
      "text/plain": [
       "[24, 25, 26, 23, 12]"
      ]
     },
     "execution_count": 51,
     "metadata": {},
     "output_type": "execute_result"
    }
   ],
   "source": [
    "ages[-7:7]"
   ]
  },
  {
   "cell_type": "code",
   "execution_count": 55,
   "id": "309d9b9b",
   "metadata": {},
   "outputs": [
    {
     "data": {
      "text/plain": [
       "[21, 23, 24, 25, 26, 23, 12, 11, 12]"
      ]
     },
     "execution_count": 55,
     "metadata": {},
     "output_type": "execute_result"
    }
   ],
   "source": [
    "ages"
   ]
  },
  {
   "cell_type": "code",
   "execution_count": 54,
   "id": "f6634b7c",
   "metadata": {},
   "outputs": [
    {
     "data": {
      "text/plain": [
       "9"
      ]
     },
     "execution_count": 54,
     "metadata": {},
     "output_type": "execute_result"
    }
   ],
   "source": [
    "len(ages)"
   ]
  },
  {
   "cell_type": "code",
   "execution_count": 56,
   "id": "45239a61",
   "metadata": {},
   "outputs": [
    {
     "data": {
      "text/plain": [
       "177"
      ]
     },
     "execution_count": 56,
     "metadata": {},
     "output_type": "execute_result"
    }
   ],
   "source": [
    "sum(ages)"
   ]
  },
  {
   "cell_type": "code",
   "execution_count": 57,
   "id": "7b1b3c52",
   "metadata": {},
   "outputs": [
    {
     "data": {
      "text/plain": [
       "['A', 10, 10.5, True]"
      ]
     },
     "execution_count": 57,
     "metadata": {},
     "output_type": "execute_result"
    }
   ],
   "source": [
    "list1"
   ]
  },
  {
   "cell_type": "code",
   "execution_count": 59,
   "id": "e94088e4",
   "metadata": {},
   "outputs": [
    {
     "data": {
      "text/plain": [
       "11"
      ]
     },
     "execution_count": 59,
     "metadata": {},
     "output_type": "execute_result"
    }
   ],
   "source": [
    "min(ages)"
   ]
  },
  {
   "cell_type": "code",
   "execution_count": 60,
   "id": "f622912e",
   "metadata": {},
   "outputs": [
    {
     "data": {
      "text/plain": [
       "26"
      ]
     },
     "execution_count": 60,
     "metadata": {},
     "output_type": "execute_result"
    }
   ],
   "source": [
    "max(ages)"
   ]
  },
  {
   "cell_type": "code",
   "execution_count": 61,
   "id": "e74ead07",
   "metadata": {},
   "outputs": [],
   "source": [
    "ages.append(100)"
   ]
  },
  {
   "cell_type": "code",
   "execution_count": 62,
   "id": "197045d0",
   "metadata": {},
   "outputs": [
    {
     "data": {
      "text/plain": [
       "[21, 23, 24, 25, 26, 23, 12, 11, 12, 100]"
      ]
     },
     "execution_count": 62,
     "metadata": {},
     "output_type": "execute_result"
    }
   ],
   "source": [
    "ages"
   ]
  },
  {
   "cell_type": "code",
   "execution_count": 67,
   "id": "ca629329",
   "metadata": {},
   "outputs": [],
   "source": [
    "ages.extend([101,102,103])"
   ]
  },
  {
   "cell_type": "code",
   "execution_count": 65,
   "id": "eb625158",
   "metadata": {},
   "outputs": [
    {
     "data": {
      "text/plain": [
       "[21, 23, 24, 25, 26, 23, 12, 11, 12, 100, 101, 102, 103]"
      ]
     },
     "execution_count": 65,
     "metadata": {},
     "output_type": "execute_result"
    }
   ],
   "source": [
    "ages"
   ]
  },
  {
   "cell_type": "code",
   "execution_count": 69,
   "id": "e17aa5cd",
   "metadata": {},
   "outputs": [],
   "source": [
    "ages.append([101,102,103])"
   ]
  },
  {
   "cell_type": "code",
   "execution_count": 70,
   "id": "10c9da4b",
   "metadata": {},
   "outputs": [
    {
     "data": {
      "text/plain": [
       "[21,\n",
       " 23,\n",
       " 24,\n",
       " 25,\n",
       " 26,\n",
       " 23,\n",
       " 12,\n",
       " 11,\n",
       " 12,\n",
       " 100,\n",
       " 101,\n",
       " 102,\n",
       " 103,\n",
       " 101,\n",
       " 102,\n",
       " 103,\n",
       " [101, 102, 103]]"
      ]
     },
     "execution_count": 70,
     "metadata": {},
     "output_type": "execute_result"
    }
   ],
   "source": [
    "ages"
   ]
  },
  {
   "cell_type": "code",
   "execution_count": 72,
   "id": "a6080b33",
   "metadata": {},
   "outputs": [],
   "source": [
    "del(ages[-1])"
   ]
  },
  {
   "cell_type": "code",
   "execution_count": 73,
   "id": "f7b5560c",
   "metadata": {},
   "outputs": [
    {
     "data": {
      "text/plain": [
       "[21, 23, 24, 25, 26, 23, 12, 11, 12, 100, 101, 102, 103, 101, 102, 103]"
      ]
     },
     "execution_count": 73,
     "metadata": {},
     "output_type": "execute_result"
    }
   ],
   "source": [
    "ages"
   ]
  },
  {
   "cell_type": "code",
   "execution_count": 74,
   "id": "dcc5993f",
   "metadata": {},
   "outputs": [
    {
     "data": {
      "text/plain": [
       "['A', 10, 10.5, True]"
      ]
     },
     "execution_count": 74,
     "metadata": {},
     "output_type": "execute_result"
    }
   ],
   "source": [
    "list1"
   ]
  },
  {
   "cell_type": "code",
   "execution_count": 76,
   "id": "033e567b",
   "metadata": {},
   "outputs": [],
   "source": [
    "ages1 =ages.copy()"
   ]
  },
  {
   "cell_type": "code",
   "execution_count": 77,
   "id": "614e73f6",
   "metadata": {},
   "outputs": [
    {
     "data": {
      "text/plain": [
       "[21, 23, 24, 25, 26, 23, 12, 11, 12, 100, 101, 102, 103, 101, 102, 103]"
      ]
     },
     "execution_count": 77,
     "metadata": {},
     "output_type": "execute_result"
    }
   ],
   "source": [
    "ages1"
   ]
  },
  {
   "cell_type": "code",
   "execution_count": 78,
   "id": "28bfc42b",
   "metadata": {},
   "outputs": [
    {
     "data": {
      "text/plain": [
       "[21, 23, 24, 25, 26, 23, 12, 11, 12, 100, 101, 102, 103, 101, 102, 103]"
      ]
     },
     "execution_count": 78,
     "metadata": {},
     "output_type": "execute_result"
    }
   ],
   "source": [
    "ages"
   ]
  },
  {
   "cell_type": "code",
   "execution_count": 79,
   "id": "393836f2",
   "metadata": {},
   "outputs": [],
   "source": [
    "del(ages)"
   ]
  },
  {
   "cell_type": "code",
   "execution_count": 81,
   "id": "c65e9738",
   "metadata": {},
   "outputs": [],
   "source": [
    "ages= [21,23,24,25,26,23,12,11,12]"
   ]
  },
  {
   "cell_type": "code",
   "execution_count": 82,
   "id": "9b9b84aa",
   "metadata": {},
   "outputs": [
    {
     "data": {
      "text/plain": [
       "[21, 23, 24, 25, 26, 23, 12, 11, 12]"
      ]
     },
     "execution_count": 82,
     "metadata": {},
     "output_type": "execute_result"
    }
   ],
   "source": [
    "ages"
   ]
  },
  {
   "cell_type": "code",
   "execution_count": 87,
   "id": "15f008e8",
   "metadata": {},
   "outputs": [],
   "source": [
    "ages[0]=100"
   ]
  },
  {
   "cell_type": "code",
   "execution_count": 88,
   "id": "bcde4f37",
   "metadata": {},
   "outputs": [
    {
     "data": {
      "text/plain": [
       "[100, 23, 24, 25, 26, 23, 12, 11, 12]"
      ]
     },
     "execution_count": 88,
     "metadata": {},
     "output_type": "execute_result"
    }
   ],
   "source": [
    "ages"
   ]
  },
  {
   "cell_type": "code",
   "execution_count": 83,
   "id": "000305e6",
   "metadata": {},
   "outputs": [],
   "source": [
    "ages1=ages.copy()"
   ]
  },
  {
   "cell_type": "code",
   "execution_count": null,
   "id": "f2d6621f",
   "metadata": {},
   "outputs": [],
   "source": []
  },
  {
   "cell_type": "code",
   "execution_count": 89,
   "id": "1106c75f",
   "metadata": {},
   "outputs": [
    {
     "data": {
      "text/plain": [
       "[21, 23, 24, 25, 26, 23, 12, 11, 12]"
      ]
     },
     "execution_count": 89,
     "metadata": {},
     "output_type": "execute_result"
    }
   ],
   "source": [
    "ages1"
   ]
  },
  {
   "cell_type": "code",
   "execution_count": 90,
   "id": "cae2e7c0",
   "metadata": {},
   "outputs": [
    {
     "data": {
      "text/plain": [
       "[100, 23, 24, 25, 26, 23, 12, 11, 12]"
      ]
     },
     "execution_count": 90,
     "metadata": {},
     "output_type": "execute_result"
    }
   ],
   "source": [
    "ages2"
   ]
  },
  {
   "cell_type": "code",
   "execution_count": 91,
   "id": "75f2d0d4",
   "metadata": {},
   "outputs": [
    {
     "data": {
      "text/plain": [
       "2102593077440"
      ]
     },
     "execution_count": 91,
     "metadata": {},
     "output_type": "execute_result"
    }
   ],
   "source": [
    "id(ages)"
   ]
  },
  {
   "cell_type": "code",
   "execution_count": 92,
   "id": "60f57adf",
   "metadata": {},
   "outputs": [
    {
     "data": {
      "text/plain": [
       "2102589654592"
      ]
     },
     "execution_count": 92,
     "metadata": {},
     "output_type": "execute_result"
    }
   ],
   "source": [
    "id(ages1)"
   ]
  },
  {
   "cell_type": "code",
   "execution_count": 93,
   "id": "7fae3f55",
   "metadata": {},
   "outputs": [
    {
     "data": {
      "text/plain": [
       "2102593077440"
      ]
     },
     "execution_count": 93,
     "metadata": {},
     "output_type": "execute_result"
    }
   ],
   "source": [
    "id(ages2)"
   ]
  },
  {
   "cell_type": "code",
   "execution_count": 94,
   "id": "68368793",
   "metadata": {},
   "outputs": [],
   "source": [
    "del(ages1)"
   ]
  },
  {
   "cell_type": "code",
   "execution_count": 95,
   "id": "bac81c25",
   "metadata": {},
   "outputs": [],
   "source": [
    "del(ages2)"
   ]
  },
  {
   "cell_type": "code",
   "execution_count": 98,
   "id": "8e93ec2d",
   "metadata": {},
   "outputs": [
    {
     "data": {
      "text/plain": [
       "[100, 23, 24, 25, 26, 23, 12, 11, 12]"
      ]
     },
     "execution_count": 98,
     "metadata": {},
     "output_type": "execute_result"
    }
   ],
   "source": [
    "ages"
   ]
  },
  {
   "cell_type": "code",
   "execution_count": 99,
   "id": "627ef60c",
   "metadata": {},
   "outputs": [
    {
     "data": {
      "text/plain": [
       "2"
      ]
     },
     "execution_count": 99,
     "metadata": {},
     "output_type": "execute_result"
    }
   ],
   "source": [
    "ages.count(12)"
   ]
  },
  {
   "cell_type": "code",
   "execution_count": 100,
   "id": "6a409873",
   "metadata": {},
   "outputs": [
    {
     "data": {
      "text/plain": [
       "6"
      ]
     },
     "execution_count": 100,
     "metadata": {},
     "output_type": "execute_result"
    }
   ],
   "source": [
    "ages.index(12)"
   ]
  },
  {
   "cell_type": "code",
   "execution_count": 101,
   "id": "4c722b99",
   "metadata": {},
   "outputs": [],
   "source": [
    "ages.insert(4,30)"
   ]
  },
  {
   "cell_type": "code",
   "execution_count": 102,
   "id": "59342478",
   "metadata": {},
   "outputs": [
    {
     "data": {
      "text/plain": [
       "[100, 23, 24, 25, 30, 26, 23, 12, 11, 12]"
      ]
     },
     "execution_count": 102,
     "metadata": {},
     "output_type": "execute_result"
    }
   ],
   "source": [
    "ages"
   ]
  },
  {
   "cell_type": "code",
   "execution_count": 103,
   "id": "b6fb097f",
   "metadata": {},
   "outputs": [
    {
     "data": {
      "text/plain": [
       "12"
      ]
     },
     "execution_count": 103,
     "metadata": {},
     "output_type": "execute_result"
    }
   ],
   "source": [
    "ages.pop()"
   ]
  },
  {
   "cell_type": "code",
   "execution_count": 104,
   "id": "9eef6bde",
   "metadata": {},
   "outputs": [
    {
     "data": {
      "text/plain": [
       "[100, 23, 24, 25, 30, 26, 23, 12, 11]"
      ]
     },
     "execution_count": 104,
     "metadata": {},
     "output_type": "execute_result"
    }
   ],
   "source": [
    "ages"
   ]
  },
  {
   "cell_type": "code",
   "execution_count": 105,
   "id": "696035ec",
   "metadata": {},
   "outputs": [],
   "source": [
    "ages.remove(12)"
   ]
  },
  {
   "cell_type": "code",
   "execution_count": 106,
   "id": "d259de8b",
   "metadata": {},
   "outputs": [
    {
     "data": {
      "text/plain": [
       "[100, 23, 24, 25, 30, 26, 23, 11]"
      ]
     },
     "execution_count": 106,
     "metadata": {},
     "output_type": "execute_result"
    }
   ],
   "source": [
    "ages"
   ]
  },
  {
   "cell_type": "code",
   "execution_count": 107,
   "id": "bc92fdc3",
   "metadata": {},
   "outputs": [],
   "source": [
    "ages.reverse()"
   ]
  },
  {
   "cell_type": "code",
   "execution_count": 108,
   "id": "b29b2e7b",
   "metadata": {},
   "outputs": [
    {
     "data": {
      "text/plain": [
       "[11, 23, 26, 30, 25, 24, 23, 100]"
      ]
     },
     "execution_count": 108,
     "metadata": {},
     "output_type": "execute_result"
    }
   ],
   "source": [
    "ages"
   ]
  },
  {
   "cell_type": "code",
   "execution_count": 109,
   "id": "2762b8b3",
   "metadata": {},
   "outputs": [],
   "source": [
    "ages.sort()"
   ]
  },
  {
   "cell_type": "code",
   "execution_count": 110,
   "id": "fcceba7d",
   "metadata": {},
   "outputs": [
    {
     "data": {
      "text/plain": [
       "[11, 23, 23, 24, 25, 26, 30, 100]"
      ]
     },
     "execution_count": 110,
     "metadata": {},
     "output_type": "execute_result"
    }
   ],
   "source": [
    "ages"
   ]
  },
  {
   "cell_type": "code",
   "execution_count": 112,
   "id": "6abb8bed",
   "metadata": {},
   "outputs": [],
   "source": [
    "ages.sort(reverse=True)"
   ]
  },
  {
   "cell_type": "code",
   "execution_count": 113,
   "id": "b94ad813",
   "metadata": {},
   "outputs": [
    {
     "data": {
      "text/plain": [
       "[100, 30, 26, 25, 24, 23, 23, 11]"
      ]
     },
     "execution_count": 113,
     "metadata": {},
     "output_type": "execute_result"
    }
   ],
   "source": [
    "ages"
   ]
  },
  {
   "cell_type": "code",
   "execution_count": 115,
   "id": "7c176987",
   "metadata": {},
   "outputs": [],
   "source": [
    "list1.append(10000)"
   ]
  },
  {
   "cell_type": "code",
   "execution_count": 123,
   "id": "ea4d449b",
   "metadata": {},
   "outputs": [],
   "source": [
    "del(list1[3])"
   ]
  },
  {
   "cell_type": "code",
   "execution_count": 124,
   "id": "d7d8d05e",
   "metadata": {},
   "outputs": [
    {
     "data": {
      "text/plain": [
       "['A', 10, 10.5, 10000]"
      ]
     },
     "execution_count": 124,
     "metadata": {},
     "output_type": "execute_result"
    }
   ],
   "source": [
    "list1"
   ]
  },
  {
   "cell_type": "code",
   "execution_count": 125,
   "id": "ea0b84af",
   "metadata": {},
   "outputs": [],
   "source": [
    "del(list1[3])"
   ]
  },
  {
   "cell_type": "code",
   "execution_count": 127,
   "id": "bdd56453",
   "metadata": {},
   "outputs": [],
   "source": [
    "list1.append(True)"
   ]
  },
  {
   "cell_type": "code",
   "execution_count": 128,
   "id": "957205e4",
   "metadata": {},
   "outputs": [
    {
     "data": {
      "text/plain": [
       "['A', 10, 10.5, True]"
      ]
     },
     "execution_count": 128,
     "metadata": {},
     "output_type": "execute_result"
    }
   ],
   "source": [
    "list1"
   ]
  },
  {
   "cell_type": "code",
   "execution_count": null,
   "id": "0497f310",
   "metadata": {},
   "outputs": [],
   "source": [
    "#2nd data types  -=-=-= python collecting data types\n",
    "#tuples ()\n",
    "#types are immutable in nature,, examples suppose state list state are not change so for non changing value we use tuples\n",
    "# after converting tuples into list we can change the and  add the value we are overwriting it"
   ]
  },
  {
   "cell_type": "code",
   "execution_count": 132,
   "id": "e91878e3",
   "metadata": {},
   "outputs": [],
   "source": [
    "salary=(21,23,22,22,43,35,34,4324,2342)"
   ]
  },
  {
   "cell_type": "code",
   "execution_count": 133,
   "id": "a796ae6c",
   "metadata": {},
   "outputs": [
    {
     "data": {
      "text/plain": [
       "(21, 23, 22, 22, 43, 35, 34, 4324, 2342)"
      ]
     },
     "execution_count": 133,
     "metadata": {},
     "output_type": "execute_result"
    }
   ],
   "source": [
    "salary"
   ]
  },
  {
   "cell_type": "code",
   "execution_count": 134,
   "id": "f03fc88d",
   "metadata": {},
   "outputs": [
    {
     "data": {
      "text/plain": [
       "2"
      ]
     },
     "execution_count": 134,
     "metadata": {},
     "output_type": "execute_result"
    }
   ],
   "source": [
    "salary.count(22)"
   ]
  },
  {
   "cell_type": "code",
   "execution_count": 135,
   "id": "36da8ebf",
   "metadata": {},
   "outputs": [
    {
     "data": {
      "text/plain": [
       "2"
      ]
     },
     "execution_count": 135,
     "metadata": {},
     "output_type": "execute_result"
    }
   ],
   "source": [
    "salary.index(22)"
   ]
  },
  {
   "cell_type": "code",
   "execution_count": 136,
   "id": "086b2be3",
   "metadata": {},
   "outputs": [
    {
     "data": {
      "text/plain": [
       "9"
      ]
     },
     "execution_count": 136,
     "metadata": {},
     "output_type": "execute_result"
    }
   ],
   "source": [
    "len(salary)"
   ]
  },
  {
   "cell_type": "code",
   "execution_count": 137,
   "id": "02ea59d7",
   "metadata": {},
   "outputs": [
    {
     "data": {
      "text/plain": [
       "6866"
      ]
     },
     "execution_count": 137,
     "metadata": {},
     "output_type": "execute_result"
    }
   ],
   "source": [
    "sum(salary)"
   ]
  },
  {
   "cell_type": "code",
   "execution_count": 138,
   "id": "f8bb360e",
   "metadata": {},
   "outputs": [
    {
     "data": {
      "text/plain": [
       "(21, 23, 22, 22, 43, 35, 34, 4324, 2342)"
      ]
     },
     "execution_count": 138,
     "metadata": {},
     "output_type": "execute_result"
    }
   ],
   "source": [
    "salary"
   ]
  },
  {
   "cell_type": "code",
   "execution_count": 144,
   "id": "2838ba48",
   "metadata": {},
   "outputs": [
    {
     "data": {
      "text/plain": [
       "2102590575552"
      ]
     },
     "execution_count": 144,
     "metadata": {},
     "output_type": "execute_result"
    }
   ],
   "source": [
    "id(salary)"
   ]
  },
  {
   "cell_type": "code",
   "execution_count": 139,
   "id": "46853409",
   "metadata": {},
   "outputs": [
    {
     "data": {
      "text/plain": [
       "[21, 23, 22, 22, 43, 35, 34, 4324, 2342]"
      ]
     },
     "execution_count": 139,
     "metadata": {},
     "output_type": "execute_result"
    }
   ],
   "source": [
    "list(salary)"
   ]
  },
  {
   "cell_type": "code",
   "execution_count": 140,
   "id": "17c2c019",
   "metadata": {},
   "outputs": [],
   "source": [
    "l_sal=list(salary)"
   ]
  },
  {
   "cell_type": "code",
   "execution_count": 142,
   "id": "a049608b",
   "metadata": {},
   "outputs": [],
   "source": [
    "l_sal[0]=100"
   ]
  },
  {
   "cell_type": "code",
   "execution_count": 145,
   "id": "9b41651b",
   "metadata": {},
   "outputs": [],
   "source": [
    "salary=tuple(l_sal)"
   ]
  },
  {
   "cell_type": "code",
   "execution_count": 147,
   "id": "72e1adcd",
   "metadata": {},
   "outputs": [
    {
     "data": {
      "text/plain": [
       "(100, 23, 22, 22, 43, 35, 34, 4324, 2342)"
      ]
     },
     "execution_count": 147,
     "metadata": {},
     "output_type": "execute_result"
    }
   ],
   "source": [
    "salary"
   ]
  },
  {
   "cell_type": "code",
   "execution_count": 146,
   "id": "9490c385",
   "metadata": {},
   "outputs": [
    {
     "data": {
      "text/plain": [
       "2102604117696"
      ]
     },
     "execution_count": 146,
     "metadata": {},
     "output_type": "execute_result"
    }
   ],
   "source": [
    "id(salary)"
   ]
  },
  {
   "cell_type": "code",
   "execution_count": 148,
   "id": "1f209d39",
   "metadata": {},
   "outputs": [],
   "source": [
    "#sets---collection of data types  ---duplicates are takes,sets does not index and slicing\n",
    "set1={1,2,2,2,3,3,3,4,4,5,6,6,7}"
   ]
  },
  {
   "cell_type": "code",
   "execution_count": 149,
   "id": "10626401",
   "metadata": {},
   "outputs": [
    {
     "data": {
      "text/plain": [
       "set"
      ]
     },
     "execution_count": 149,
     "metadata": {},
     "output_type": "execute_result"
    }
   ],
   "source": [
    "type(set1)"
   ]
  },
  {
   "cell_type": "code",
   "execution_count": 150,
   "id": "76bab758",
   "metadata": {},
   "outputs": [
    {
     "data": {
      "text/plain": [
       "{1, 2, 3, 4, 5, 6, 7}"
      ]
     },
     "execution_count": 150,
     "metadata": {},
     "output_type": "execute_result"
    }
   ],
   "source": [
    "set1"
   ]
  },
  {
   "cell_type": "code",
   "execution_count": 151,
   "id": "7d873502",
   "metadata": {},
   "outputs": [
    {
     "data": {
      "text/plain": [
       "28"
      ]
     },
     "execution_count": 151,
     "metadata": {},
     "output_type": "execute_result"
    }
   ],
   "source": [
    "sum(set1)"
   ]
  },
  {
   "cell_type": "code",
   "execution_count": 152,
   "id": "2db4ab51",
   "metadata": {},
   "outputs": [
    {
     "data": {
      "text/plain": [
       "7"
      ]
     },
     "execution_count": 152,
     "metadata": {},
     "output_type": "execute_result"
    }
   ],
   "source": [
    "len(set1)"
   ]
  },
  {
   "cell_type": "code",
   "execution_count": 153,
   "id": "e77fdadf",
   "metadata": {},
   "outputs": [
    {
     "data": {
      "text/plain": [
       "7"
      ]
     },
     "execution_count": 153,
     "metadata": {},
     "output_type": "execute_result"
    }
   ],
   "source": [
    "max(set1)"
   ]
  },
  {
   "cell_type": "code",
   "execution_count": 154,
   "id": "6ccf2478",
   "metadata": {},
   "outputs": [],
   "source": [
    "set1.add(8)"
   ]
  },
  {
   "cell_type": "code",
   "execution_count": 155,
   "id": "97408e68",
   "metadata": {},
   "outputs": [
    {
     "data": {
      "text/plain": [
       "{1, 2, 3, 4, 5, 6, 7, 8}"
      ]
     },
     "execution_count": 155,
     "metadata": {},
     "output_type": "execute_result"
    }
   ],
   "source": [
    "set1"
   ]
  },
  {
   "cell_type": "code",
   "execution_count": 157,
   "id": "72b1b12d",
   "metadata": {},
   "outputs": [],
   "source": [
    "set1.update([9,10,11])"
   ]
  },
  {
   "cell_type": "code",
   "execution_count": 158,
   "id": "808c05d7",
   "metadata": {},
   "outputs": [
    {
     "data": {
      "text/plain": [
       "{1, 2, 3, 4, 5, 6, 7, 8, 9, 10, 11}"
      ]
     },
     "execution_count": 158,
     "metadata": {},
     "output_type": "execute_result"
    }
   ],
   "source": [
    "set1"
   ]
  },
  {
   "cell_type": "code",
   "execution_count": 159,
   "id": "7ef0c948",
   "metadata": {},
   "outputs": [],
   "source": [
    "set1.discard(10)"
   ]
  },
  {
   "cell_type": "code",
   "execution_count": 161,
   "id": "efbcf311",
   "metadata": {},
   "outputs": [
    {
     "data": {
      "text/plain": [
       "1"
      ]
     },
     "execution_count": 161,
     "metadata": {},
     "output_type": "execute_result"
    }
   ],
   "source": [
    "set1.pop()"
   ]
  },
  {
   "cell_type": "code",
   "execution_count": 163,
   "id": "acc11587",
   "metadata": {},
   "outputs": [],
   "source": [
    "set1.remove(7)"
   ]
  },
  {
   "cell_type": "code",
   "execution_count": 165,
   "id": "5fe10d8f",
   "metadata": {},
   "outputs": [
    {
     "data": {
      "text/plain": [
       "{2, 3, 4, 5, 6, 8, 9, 11}"
      ]
     },
     "execution_count": 165,
     "metadata": {},
     "output_type": "execute_result"
    }
   ],
   "source": [
    "set1"
   ]
  },
  {
   "cell_type": "code",
   "execution_count": 166,
   "id": "4bfb7472",
   "metadata": {},
   "outputs": [],
   "source": [
    "set1={1,2,3,4,5,6}\n",
    "set2={3,4,5}\n",
    "set3={5,6,7,8}\n",
    "set4= {9,10,11}"
   ]
  },
  {
   "cell_type": "code",
   "execution_count": 167,
   "id": "2241644d",
   "metadata": {},
   "outputs": [
    {
     "data": {
      "text/plain": [
       "{1, 2, 3, 4}"
      ]
     },
     "execution_count": 167,
     "metadata": {},
     "output_type": "execute_result"
    }
   ],
   "source": [
    "set1.difference(set3)"
   ]
  },
  {
   "cell_type": "code",
   "execution_count": 171,
   "id": "75b1d505",
   "metadata": {},
   "outputs": [],
   "source": [
    "set1.difference_update(set3)"
   ]
  },
  {
   "cell_type": "code",
   "execution_count": 172,
   "id": "b1c379ad",
   "metadata": {},
   "outputs": [
    {
     "data": {
      "text/plain": [
       "{1, 2, 3, 4}"
      ]
     },
     "execution_count": 172,
     "metadata": {},
     "output_type": "execute_result"
    }
   ],
   "source": [
    "set1"
   ]
  },
  {
   "cell_type": "code",
   "execution_count": 181,
   "id": "4ea40d44",
   "metadata": {},
   "outputs": [
    {
     "data": {
      "text/plain": [
       "{1, 2, 3, 4}"
      ]
     },
     "execution_count": 181,
     "metadata": {},
     "output_type": "execute_result"
    }
   ],
   "source": [
    "set1.symmetric_difference(set3)"
   ]
  },
  {
   "cell_type": "code",
   "execution_count": 179,
   "id": "3d713e71",
   "metadata": {},
   "outputs": [],
   "source": [
    "set1.symmetric_difference_update(set3)"
   ]
  },
  {
   "cell_type": "code",
   "execution_count": 180,
   "id": "3cb2d87c",
   "metadata": {},
   "outputs": [
    {
     "data": {
      "text/plain": [
       "{1, 2, 3, 4, 5, 6, 7, 8}"
      ]
     },
     "execution_count": 180,
     "metadata": {},
     "output_type": "execute_result"
    }
   ],
   "source": [
    "set1"
   ]
  },
  {
   "cell_type": "code",
   "execution_count": 187,
   "id": "ca2545af",
   "metadata": {},
   "outputs": [
    {
     "data": {
      "text/plain": [
       "{5, 6, 7, 8}"
      ]
     },
     "execution_count": 187,
     "metadata": {},
     "output_type": "execute_result"
    }
   ],
   "source": [
    "set1.intersection(set3)"
   ]
  },
  {
   "cell_type": "code",
   "execution_count": 188,
   "id": "fc60813f",
   "metadata": {},
   "outputs": [],
   "source": [
    "set1.intersection_update(set3)"
   ]
  },
  {
   "cell_type": "code",
   "execution_count": 189,
   "id": "67896596",
   "metadata": {},
   "outputs": [
    {
     "data": {
      "text/plain": [
       "{5, 6, 7, 8}"
      ]
     },
     "execution_count": 189,
     "metadata": {},
     "output_type": "execute_result"
    }
   ],
   "source": [
    "set1"
   ]
  },
  {
   "cell_type": "code",
   "execution_count": 170,
   "id": "c4a08359",
   "metadata": {},
   "outputs": [
    {
     "data": {
      "text/plain": [
       "{1, 2, 3, 4, 5, 6, 9, 10, 11}"
      ]
     },
     "execution_count": 170,
     "metadata": {},
     "output_type": "execute_result"
    }
   ],
   "source": [
    "set1.union(set4)"
   ]
  },
  {
   "cell_type": "code",
   "execution_count": 195,
   "id": "f06e10a6",
   "metadata": {},
   "outputs": [],
   "source": [
    "set1={1,2,3,4,5,6}\n",
    "set2={3,4,5}\n",
    "set3={5,6,7,8}\n",
    "set4= {9,10,11}"
   ]
  },
  {
   "cell_type": "code",
   "execution_count": 191,
   "id": "e345c552",
   "metadata": {},
   "outputs": [
    {
     "data": {
      "text/plain": [
       "True"
      ]
     },
     "execution_count": 191,
     "metadata": {},
     "output_type": "execute_result"
    }
   ],
   "source": [
    "set1.issuperset(set2)"
   ]
  },
  {
   "cell_type": "code",
   "execution_count": 197,
   "id": "632a5f74",
   "metadata": {},
   "outputs": [
    {
     "data": {
      "text/plain": [
       "True"
      ]
     },
     "execution_count": 197,
     "metadata": {},
     "output_type": "execute_result"
    }
   ],
   "source": [
    "set2.issubset(set1)"
   ]
  },
  {
   "cell_type": "code",
   "execution_count": 198,
   "id": "b6e04010",
   "metadata": {},
   "outputs": [
    {
     "data": {
      "text/plain": [
       "True"
      ]
     },
     "execution_count": 198,
     "metadata": {},
     "output_type": "execute_result"
    }
   ],
   "source": [
    "set1.isdisjoint(set4)"
   ]
  },
  {
   "cell_type": "code",
   "execution_count": 200,
   "id": "a8622aa7",
   "metadata": {},
   "outputs": [
    {
     "data": {
      "text/plain": [
       "{1, 2, 3, 4, 5, 6}"
      ]
     },
     "execution_count": 200,
     "metadata": {},
     "output_type": "execute_result"
    }
   ],
   "source": [
    "set1"
   ]
  },
  {
   "cell_type": "code",
   "execution_count": 201,
   "id": "60002642",
   "metadata": {},
   "outputs": [],
   "source": [
    "fsset=frozenset(set1)"
   ]
  },
  {
   "cell_type": "code",
   "execution_count": null,
   "id": "20842263",
   "metadata": {},
   "outputs": [],
   "source": [
    "fsset."
   ]
  },
  {
   "cell_type": "code",
   "execution_count": null,
   "id": "5fa031b0",
   "metadata": {},
   "outputs": [],
   "source": []
  },
  {
   "cell_type": "code",
   "execution_count": null,
   "id": "6433202e",
   "metadata": {},
   "outputs": [],
   "source": []
  }
 ],
 "metadata": {
  "kernelspec": {
   "display_name": "Python 3 (ipykernel)",
   "language": "python",
   "name": "python3"
  },
  "language_info": {
   "codemirror_mode": {
    "name": "ipython",
    "version": 3
   },
   "file_extension": ".py",
   "mimetype": "text/x-python",
   "name": "python",
   "nbconvert_exporter": "python",
   "pygments_lexer": "ipython3",
   "version": "3.9.12"
  }
 },
 "nbformat": 4,
 "nbformat_minor": 5
}
